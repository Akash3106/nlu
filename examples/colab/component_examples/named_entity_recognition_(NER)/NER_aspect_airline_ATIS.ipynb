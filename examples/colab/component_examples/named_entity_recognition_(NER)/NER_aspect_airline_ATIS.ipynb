{
  "nbformat": 4,
  "nbformat_minor": 0,
  "metadata": {
    "colab": {
      "name": "NER_aspect_airline_ATIS.ipynb",
      "provenance": [],
      "collapsed_sections": []
    },
    "kernelspec": {
      "display_name": "Python 3",
      "name": "python3"
    }
  },
  "cells": [
    {
      "cell_type": "markdown",
      "metadata": {
        "id": "NYQRU3pRO146"
      },
      "source": [
        "![JohnSnowLabs](https://nlp.johnsnowlabs.com/assets/images/logo.png)\n",
        "\n",
        "[![Open In Colab](https://colab.research.google.com/assets/colab-badge.svg)](https://colab.research.google.com/github/JohnSnowLabs/nlu/blob/master/examples/colab/component_examples/named_entity_recognition_(NER)/NER_aspect_airline_ATIS.ipynb)\n",
        "\n",
        "\n",
        "Named entities are phrases that contain the names of persons, organizations, locations, times and quantities. Example:\n",
        "<br>\n",
        "<br>\n",
        "\n",
        "#Content\n",
        "ATIS dataset provides large number of messages and their associated intents that can be used in training a classifier. Within a chatbot, intent refers to the goal the customer has in mind when typing in a question or comment. While entity refers to the modifier the customer uses to describe their issue, the intent is what they really mean. For example, a user says, ‘I need new shoes.’ The intent behind the message is to browse the footwear on offer. Understanding the intent of the customer is key to implementing a successful chatbot experience for end-user.\n",
        "https://www.kaggle.com/hassanamin/atis-airlinetravelinformationsystem\n",
        "<br>\n",
        "<br>\n",
        "\n",
        "|Tags predicted by this model | \t\n",
        "|------|\n",
        " | O|\n",
        " | I-depart_time.end_time|\n",
        " | B-arrive_date.date_relative|\n",
        " | I-fromloc.state_name|\n",
        " | B-depart_date.date_relative|\n",
        " | B-fromloc.state_code|\n",
        " | B-meal_description|\n",
        " | B-depart_time.time_relative|\n",
        " | I-fare_amount|\n",
        " | I-fromloc.city_name|\n",
        " | B-booking_class|\n",
        " | I-arrive_time.end_time|\n",
        " | B-return_date.today_relative|\n",
        " | B-fromloc.state_name|\n",
        " | B-round_trip|\n",
        " | B-depart_date.today_relative|\n",
        " | I-return_date.day_number|\n",
        " | I-depart_time.start_time|\n",
        " | B-period_of_day|\n",
        " | B-arrive_date.day_number|\n",
        " | B-flight_stop|\n",
        " | B-depart_date.day_name|\n",
        " | I-stoploc.city_name|\n",
        " | I-return_date.today_relative|\n",
        " | B-class_type|\n",
        " | B-stoploc.state_code|\n",
        " | B-economy|\n",
        " | B-depart_time.end_time|\n",
        " | B-return_date.date_relative|\n",
        " | I-fromloc.airport_name|\n",
        " | B-arrive_date.month_name|\n",
        " | I-flight_mod|\n",
        " | B-toloc.airport_code|\n",
        " | I-depart_time.end_time|\n",
        " | B-airline_code|\n",
        " | B-flight_mod|\n",
        " | B-cost_relative|\n",
        " | B-state_name|\n",
        " | B-fromloc.city_name|\n",
        " | B-depart_time.period_of_day|\n",
        " | I-city_name|\n",
        " | B-depart_time.period_mod|\n",
        " | B-city_name|\n",
        " | B-meal|\n",
        " | B-return_date.day_number|\n",
        " | I-airline_name|\n",
        " | I-restriction_code|\n",
        " | B-airline_name|\n",
        " | B-restriction_code|\n",
        " | B-flight|\n",
        " | B-transport_type|\n",
        " | B-time_relative|\n",
        " | B-arrive_time.time_relative|\n",
        " | B-fromloc.airport_code|\n",
        " | B-time|\n",
        " | I-toloc.city_name|\n",
        " | B-toloc.state_name|\n",
        " | B-meal_code|\n",
        " | I-arrive_date.day_number|\n",
        " | B-depart_time.start_time|\n",
        " | B-month_name|\n",
        " | B-fromloc.airport_name|\n",
        " | B-flight_number|\n",
        " | B-days_code|\n",
        " | I-meal_description|\n",
        " | B-fare_basis_code|\n",
        " | I-cost_relative|\n",
        " | I-time|\n",
        " | B-return_time.period_of_day|\n",
        " | I-depart_time.time|\n",
        " | B-depart_date.day_number|\n",
        " | I-economy|\n",
        " | B-arrive_time.start_time|\n",
        " | B-return_date.day_name|\n",
        " | B-return_time.period_mod|\n",
        " | B-airport_code|\n",
        " | B-stoploc.airport_code|\n",
        " | B-flight_time|\n",
        " | I-transport_type|\n",
        " | B-depart_date.month_name|\n",
        " | I-toloc.airport_name|\n",
        " | B-today_relative|\n",
        " | I-arrive_time.period_of_day|\n",
        " | B-day_name|\n",
        " | B-toloc.city_name|\n",
        " | B-connect|\n",
        " | I-round_trip|\n",
        " | B-depart_time.time|\n",
        " | B-airport_name|\n",
        " | B-arrive_time.period_of_day|\n",
        " | B-stoploc.airport_name|\n",
        " | I-class_type|\n",
        " | B-aircraft_code|\n",
        " | I-return_date.date_relative|\n",
        " | B-toloc.country_name|\n",
        " | I-flight_number|\n",
        " | B-state_code|\n",
        " | B-or|\n",
        " | I-depart_date.today_relative|\n",
        " | B-toloc.airport_name|\n",
        " | I-arrive_time.time|\n",
        " | I-flight_time|\n",
        " | I-state_name|\n",
        " | I-airport_name|\n",
        " | I-depart_time.period_of_day|\n",
        " | B-arrive_time.time|\n",
        " | B-depart_date.year|\n",
        " | I-flight_stop|\n",
        " | I-toloc.state_name|\n",
        " | B-arrive_date.day_name|\n",
        " | B-compartment|\n",
        " | I-depart_date.day_number|\n",
        " | I-meal_code|\n",
        " | B-arrive_time.end_time|\n",
        " | I-today_relative|\n",
        " | I-arrive_time.start_time|\n",
        " | B-toloc.state_code|\n",
        " | B-day_number|\n",
        " | I-arrive_time.time_relative|\n",
        " | I-fare_basis_code|\n",
        " | I-depart_time.time_relative|\n",
        " | B-return_date.month_name|\n",
        " | B-stoploc.city_name|\n",
        " | B-arrive_time.period_mod|\n",
        " | B-fare_amount|\n",
        " | B-mod|\n",
        " | B-arrive_date.today_relative|\n",
        "\n",
        "\n",
        "\n",
        "\n",
        "\n",
        "\n",
        "\n",
        "\n",
        "\n",
        "\n",
        "\n"
      ]
    },
    {
      "cell_type": "code",
      "metadata": {
        "id": "M2-GiYL6xurJ",
        "colab": {
          "base_uri": "https://localhost:8080/"
        },
        "outputId": "c254f482-0097-471f-89a4-e73c025d71d1"
      },
      "source": [
        "import os\n",
        "! apt-get update -qq > /dev/null   \n",
        "# Install java\n",
        "! apt-get install -y openjdk-8-jdk-headless -qq > /dev/null\n",
        "os.environ[\"JAVA_HOME\"] = \"/usr/lib/jvm/java-8-openjdk-amd64\"\n",
        "os.environ[\"PATH\"] = os.environ[\"JAVA_HOME\"] + \"/bin:\" + os.environ[\"PATH\"]\n",
        "!pip install nlu==1.1.1.rc1  pyspark==2.4.7 > /dev/null\n",
        "! wget http://ckl-it.de/wp-content/uploads/2021/01/atis_intents.csv"
      ],
      "execution_count": 1,
      "outputs": [
        {
          "output_type": "stream",
          "text": [
            "--2021-02-02 13:11:15--  http://ckl-it.de/wp-content/uploads/2021/01/atis_intents.csv\n",
            "Resolving ckl-it.de (ckl-it.de)... 217.160.0.108, 2001:8d8:100f:f000::209\n",
            "Connecting to ckl-it.de (ckl-it.de)|217.160.0.108|:80... connected.\n",
            "HTTP request sent, awaiting response... 200 OK\n",
            "Length: 391936 (383K) [text/csv]\n",
            "Saving to: ‘atis_intents.csv’\n",
            "\n",
            "atis_intents.csv    100%[===================>] 382.75K  --.-KB/s    in 0.1s    \n",
            "\n",
            "2021-02-02 13:11:15 (3.87 MB/s) - ‘atis_intents.csv’ saved [391936/391936]\n",
            "\n"
          ],
          "name": "stdout"
        }
      ]
    },
    {
      "cell_type": "markdown",
      "metadata": {
        "id": "Gph8XOL1Pzpl"
      },
      "source": [
        "# NLU makes NER easy. \n",
        "\n",
        "You just need to load the NER model via ner.load() and predict on some dataset.    \n",
        "It could be a pandas dataframe with a column named text or just an array of strings."
      ]
    },
    {
      "cell_type": "code",
      "metadata": {
        "colab": {
          "base_uri": "https://localhost:8080/",
          "height": 552
        },
        "id": "pmpZSNvGlyZQ",
        "outputId": "ff099ddb-e4cf-4480-9d4b-fe8bc4207ff0"
      },
      "source": [
        "import nlu \n",
        "import pandas as pd\n",
        "\n",
        "df = pd.read_csv(\"atis_intents.csv\")\n",
        "df.columns = [\"flight\",\"text\"]\n",
        "ner_df = nlu.load('en.ner.aspect.airline',).predict(df[\"text\"],output_level='chunk')\n",
        "ner_df"
      ],
      "execution_count": 2,
      "outputs": [
        {
          "output_type": "stream",
          "text": [
            "nerdl_atis_840b_300d download started this may take some time.\n",
            "Approximate size to download 14.5 MB\n",
            "[OK!]\n",
            "glove_840B_300 download started this may take some time.\n",
            "Approximate size to download 2.3 GB\n",
            "[OK!]\n"
          ],
          "name": "stdout"
        },
        {
          "output_type": "execute_result",
          "data": {
            "text/html": [
              "<div>\n",
              "<style scoped>\n",
              "    .dataframe tbody tr th:only-of-type {\n",
              "        vertical-align: middle;\n",
              "    }\n",
              "\n",
              "    .dataframe tbody tr th {\n",
              "        vertical-align: top;\n",
              "    }\n",
              "\n",
              "    .dataframe thead th {\n",
              "        text-align: right;\n",
              "    }\n",
              "</style>\n",
              "<table border=\"1\" class=\"dataframe\">\n",
              "  <thead>\n",
              "    <tr style=\"text-align: right;\">\n",
              "      <th></th>\n",
              "      <th>entities</th>\n",
              "      <th>word_embeddings</th>\n",
              "      <th>ner_confidence</th>\n",
              "      <th>entities_confidence</th>\n",
              "    </tr>\n",
              "    <tr>\n",
              "      <th>origin_index</th>\n",
              "      <th></th>\n",
              "      <th></th>\n",
              "      <th></th>\n",
              "      <th></th>\n",
              "    </tr>\n",
              "  </thead>\n",
              "  <tbody>\n",
              "    <tr>\n",
              "      <th>0</th>\n",
              "      <td>pittsburgh</td>\n",
              "      <td>[[-0.038548000156879425, 0.5425199866294861, -...</td>\n",
              "      <td>[1.0, 0.9998999834060669, 1.0, 1.0, 1.0, 1.0, ...</td>\n",
              "      <td>fromloc.city_name</td>\n",
              "    </tr>\n",
              "    <tr>\n",
              "      <th>0</th>\n",
              "      <td>baltimore</td>\n",
              "      <td>[[-0.038548000156879425, 0.5425199866294861, -...</td>\n",
              "      <td>[1.0, 0.9998999834060669, 1.0, 1.0, 1.0, 1.0, ...</td>\n",
              "      <td>toloc.city_name</td>\n",
              "    </tr>\n",
              "    <tr>\n",
              "      <th>0</th>\n",
              "      <td>thursday</td>\n",
              "      <td>[[-0.038548000156879425, 0.5425199866294861, -...</td>\n",
              "      <td>[1.0, 0.9998999834060669, 1.0, 1.0, 1.0, 1.0, ...</td>\n",
              "      <td>depart_date.day_name</td>\n",
              "    </tr>\n",
              "    <tr>\n",
              "      <th>0</th>\n",
              "      <td>morning</td>\n",
              "      <td>[[-0.038548000156879425, 0.5425199866294861, -...</td>\n",
              "      <td>[1.0, 0.9998999834060669, 1.0, 1.0, 1.0, 1.0, ...</td>\n",
              "      <td>depart_time.period_of_day</td>\n",
              "    </tr>\n",
              "    <tr>\n",
              "      <th>1</th>\n",
              "      <td>arrival time</td>\n",
              "      <td>[[-0.038548000156879425, 0.5425199866294861, -...</td>\n",
              "      <td>[1.0, 1.0, 0.9991999864578247, 0.8240000009536...</td>\n",
              "      <td>flight_time</td>\n",
              "    </tr>\n",
              "    <tr>\n",
              "      <th>...</th>\n",
              "      <td>...</td>\n",
              "      <td>...</td>\n",
              "      <td>...</td>\n",
              "      <td>...</td>\n",
              "    </tr>\n",
              "    <tr>\n",
              "      <th>4975</th>\n",
              "      <td>san francisco</td>\n",
              "      <td>[[-0.13562999665737152, 0.3321700096130371, -0...</td>\n",
              "      <td>[1.0, 1.0, 1.0, 1.0, 1.0, 1.0, 0.9998000264167...</td>\n",
              "      <td>toloc.city_name</td>\n",
              "    </tr>\n",
              "    <tr>\n",
              "      <th>4975</th>\n",
              "      <td>denver</td>\n",
              "      <td>[[-0.13562999665737152, 0.3321700096130371, -0...</td>\n",
              "      <td>[1.0, 1.0, 1.0, 1.0, 1.0, 1.0, 0.9998000264167...</td>\n",
              "      <td>stoploc.city_name</td>\n",
              "    </tr>\n",
              "    <tr>\n",
              "      <th>4976</th>\n",
              "      <td>delta</td>\n",
              "      <td>[[-0.08496099710464478, 0.5019999742507935, 0....</td>\n",
              "      <td>[1.0, 0.9998999834060669, 1.0, 1.0, 1.0, 1.0, ...</td>\n",
              "      <td>airline_name</td>\n",
              "    </tr>\n",
              "    <tr>\n",
              "      <th>4976</th>\n",
              "      <td>denver</td>\n",
              "      <td>[[-0.08496099710464478, 0.5019999742507935, 0....</td>\n",
              "      <td>[1.0, 0.9998999834060669, 1.0, 1.0, 1.0, 1.0, ...</td>\n",
              "      <td>fromloc.city_name</td>\n",
              "    </tr>\n",
              "    <tr>\n",
              "      <th>4976</th>\n",
              "      <td>san francisco</td>\n",
              "      <td>[[-0.08496099710464478, 0.5019999742507935, 0....</td>\n",
              "      <td>[1.0, 0.9998999834060669, 1.0, 1.0, 1.0, 1.0, ...</td>\n",
              "      <td>toloc.city_name</td>\n",
              "    </tr>\n",
              "  </tbody>\n",
              "</table>\n",
              "<p>16673 rows × 4 columns</p>\n",
              "</div>"
            ],
            "text/plain": [
              "                   entities  ...        entities_confidence\n",
              "origin_index                 ...                           \n",
              "0                pittsburgh  ...          fromloc.city_name\n",
              "0                 baltimore  ...            toloc.city_name\n",
              "0                  thursday  ...       depart_date.day_name\n",
              "0                   morning  ...  depart_time.period_of_day\n",
              "1              arrival time  ...                flight_time\n",
              "...                     ...  ...                        ...\n",
              "4975          san francisco  ...            toloc.city_name\n",
              "4975                 denver  ...          stoploc.city_name\n",
              "4976                  delta  ...               airline_name\n",
              "4976                 denver  ...          fromloc.city_name\n",
              "4976          san francisco  ...            toloc.city_name\n",
              "\n",
              "[16673 rows x 4 columns]"
            ]
          },
          "metadata": {
            "tags": []
          },
          "execution_count": 2
        }
      ]
    },
    {
      "cell_type": "markdown",
      "metadata": {
        "id": "STc7iOwtljGo"
      },
      "source": [
        "## Lets explore our data which the predicted NER tags and visalize them!    \n",
        "\n",
        "We specify [1:] so we dont see the count for the O-tag wich is the most common, since most words in a sentence are not named entities and thus not part of a chunk"
      ]
    },
    {
      "cell_type": "code",
      "metadata": {
        "colab": {
          "base_uri": "https://localhost:8080/",
          "height": 919
        },
        "id": "UDSAYjadlfdK",
        "outputId": "5778826a-5998-486e-98ad-16b66ccfd4f3"
      },
      "source": [
        "ner_df['entities'].value_counts()[0:50].plot.bar(title='Occurence of Named Entities in dataset', figsize=(20,14))"
      ],
      "execution_count": 3,
      "outputs": [
        {
          "output_type": "execute_result",
          "data": {
            "text/plain": [
              "<matplotlib.axes._subplots.AxesSubplot at 0x7f88c6616320>"
            ]
          },
          "metadata": {
            "tags": []
          },
          "execution_count": 3
        },
        {
          "output_type": "display_data",
          "data": {
            "image/png": "[encoded data removed]",
            "text/plain": [
              "<Figure size 1440x1008 with 1 Axes>"
            ]
          },
          "metadata": {
            "tags": [],
            "needs_background": "light"
          }
        }
      ]
    },
    {
      "cell_type": "markdown",
      "metadata": {
        "id": "YO6d6VYi4aJQ"
      },
      "source": [
        "## Most occurding `fromloc.city_name` tagged entities"
      ]
    },
    {
      "cell_type": "code",
      "metadata": {
        "colab": {
          "base_uri": "https://localhost:8080/",
          "height": 386
        },
        "id": "rlcEvP9tOSiy",
        "outputId": "64129ead-b568-43ab-b52d-da2b8d96c54f"
      },
      "source": [
        "ner_type_to_viz = 'fromloc.city_name'\n",
        "ner_df[ner_df.entities_confidence == ner_type_to_viz]['entities'].value_counts().plot.bar(title='Most often occuring fromloc.city_name labeled entities in the dataset')"
      ],
      "execution_count": 4,
      "outputs": [
        {
          "output_type": "execute_result",
          "data": {
            "text/plain": [
              "<matplotlib.axes._subplots.AxesSubplot at 0x7f88926f2f28>"
            ]
          },
          "metadata": {
            "tags": []
          },
          "execution_count": 4
        },
        {
          "output_type": "display_data",
          "data": {
            "image/png": "[encoded data removed]",
            "text/plain": [
              "<Figure size 432x288 with 1 Axes>"
            ]
          },
          "metadata": {
            "tags": [],
            "needs_background": "light"
          }
        }
      ]
    },
    {
      "cell_type": "markdown",
      "metadata": {
        "id": "6R2-0v5Z4hMJ"
      },
      "source": [
        "## Most occurding `flight_time` tagged entities"
      ]
    },
    {
      "cell_type": "code",
      "metadata": {
        "id": "ks6NDXg7RXG3",
        "colab": {
          "base_uri": "https://localhost:8080/",
          "height": 368
        },
        "outputId": "dbf2e7ee-84fa-4d7d-abee-c5a11babfc5d"
      },
      "source": [
        "ner_type_to_viz = 'flight_time'\n",
        "ner_df[ner_df.entities_confidence == ner_type_to_viz]['entities'].value_counts().plot.bar(title='Most often occuring ORG labeled entities in the dataset')"
      ],
      "execution_count": 5,
      "outputs": [
        {
          "output_type": "execute_result",
          "data": {
            "text/plain": [
              "<matplotlib.axes._subplots.AxesSubplot at 0x7f88a6155cf8>"
            ]
          },
          "metadata": {
            "tags": []
          },
          "execution_count": 5
        },
        {
          "output_type": "display_data",
          "data": {
            "image/png": "[encoded data removed]",
            "text/plain": [
              "<Figure size 432x288 with 1 Axes>"
            ]
          },
          "metadata": {
            "tags": [],
            "needs_background": "light"
          }
        }
      ]
    },
    {
      "cell_type": "code",
      "metadata": {
        "id": "67MNeUed5W0y"
      },
      "source": [
        ""
      ],
      "execution_count": 5,
      "outputs": []
    }
  ]
}