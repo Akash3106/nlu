{
  "nbformat": 4,
  "nbformat_minor": 0,
  "metadata": {
    "colab": {
      "provenance": [],
      "machine_shape": "hm"
    },
    "kernelspec": {
      "name": "python3",
      "display_name": "Python 3"
    },
    "language_info": {
      "name": "python"
    }
  },
  "cells": [
    {
      "cell_type": "markdown",
      "metadata": {
        "id": "f58Xwgoziq5R"
      },
      "source": [
        "![JohnSnowLabs](https://nlp.johnsnowlabs.com/assets/images/logo.png)\n",
        "\n",
        "[![Open In Colab](https://colab.research.google.com/assets/colab-badge.svg)](https://colab.research.google.com/github/JohnSnowLabs/nlu/blob/master/examples/colab/healthcare/sequence2sequence/NLU_Medical_TextGenerators.ipynb)\n"
      ]
    },
    {
      "cell_type": "markdown",
      "source": [
        "# **Medical Text Generator**"
      ],
      "metadata": {
        "id": "bxhiePZyoqC5"
      }
    },
    {
      "cell_type": "markdown",
      "metadata": {
        "id": "U78yrnQdiq5S"
      },
      "source": [
        "MedicalTextGenerator uses the basic BioGPT model to perform various tasks related to medical text abstraction. With this annotator, a user can provide a prompt and context and instruct the system to perform a specific task, such as explaining why a patient may have a particular disease or paraphrasing the context more directly. In addition, this annotator can create a clinical note for a cancer patient using the given keywords or write medical texts based on introductory sentences. The BioGPT model is trained on large volumes of medical data allowing it to identify and extract the most relevant information from the text provided."
      ]
    },
    {
      "cell_type": "markdown",
      "metadata": {
        "id": "8jdcy5Whiq5S"
      },
      "source": [
        "**All the models avaiable are :**\n",
        "\n",
        "| Language | nlu.load() reference                                    | Spark NLP Model reference                                                                                                         |\n",
        "|----------|---------------------------------------------------------|-----------------------------------------------------------------------------------------------------------------------------------|\n",
        "| English  | en.generate.biomedical_biogpt_base | [text_generator_biomedical_biogpt_base](https://nlp.johnsnowlabs.com//2023/04/03/text_generator_biomedical_biogpt_base_en.html) |\n",
        "| English  | en.generate.generic_flan_base      | [text_generator_generic_flan_base](https://nlp.johnsnowlabs.com//2023/04/03/text_generator_generic_flan_base_en.html)           |\n",
        "| English  | en.generate.generic_jsl_base       | [text_generator_generic_jsl_base](https://nlp.johnsnowlabs.com//2023/04/03/text_generator_generic_jsl_base_en.html)             |\n",
        "| English  | en.generate.generic_flan_t5_large  | [text_generator_generic_flan_t5_large](https://nlp.johnsnowlabs.com//2023/04/04/text_generator_generic_flan_t5_large_en.html)   |\n",
        "| English  | en.generate.biogpt_chat_jsl                       | [biogpt_chat_jsl](https://nlp.johnsnowlabs.com//2023/04/12/biogpt_chat_jsl_en.html)                                             |\n",
        "| English  | en.generate.biogpt_chat_jsl_conversational        | [biogpt_chat_jsl_conversational](https://nlp.johnsnowlabs.com//2023/04/18/biogpt_chat_jsl_conversational_en.html)               |\n",
        "| English  | en.generate.biogpt_chat_jsl_conditions            | [biogpt_chat_jsl_conditions](https://nlp.johnsnowlabs.com//2023/05/11/biogpt_chat_jsl_conditions_en.html)                       |\n"
      ]
    },
    {
      "cell_type": "code",
      "execution_count": null,
      "metadata": {
        "id": "e5uMpzwBrsf4"
      },
      "outputs": [],
      "source": [
        "%%capture\n",
        "\n",
        "!wget http://setup.johnsnowlabs.com/nlu/colab.sh -O - | bash"
      ]
    },
    {
      "cell_type": "code",
      "source": [
        "!pip install pyspark==3.0.1\n",
        "!pip install pandas==1.5.0"
      ],
      "metadata": {
        "id": "8Nk2yIrtsP8N"
      },
      "execution_count": null,
      "outputs": []
    },
    {
      "cell_type": "code",
      "source": [
        "import nlu\n",
        "\n",
        "\n",
        "SPARK_NLP_LICENSE = ????\n",
        "AWS_ACCESS_KEY_ID = ????\n",
        "AWS_SECRET_ACCESS_KEY = ????\n",
        "JSL_SECRET = ????\n",
        "\n",
        "nlu.auth(SPARK_NLP_LICENSE,AWS_ACCESS_KEY_ID,AWS_SECRET_ACCESS_KEY,JSL_SECRET)"
      ],
      "metadata": {
        "id": "SNoZyC59dqbV"
      },
      "execution_count": null,
      "outputs": []
    },
    {
      "cell_type": "markdown",
      "metadata": {
        "id": "V1wGsA5Eiq5U"
      },
      "source": [
        "## 📑  **en.generate.biomedical_biogpt_base**\n",
        "\n",
        "This model is a BioGPT (LLM) based text generation model that is finetuned with biomedical datasets (Pubmed abstracts) by John Snow Labs.  Given a few tokens as an intro, it can generate human-like, conceptually meaningful texts  up to 1024 tokens given an input text (max 1024 tokens)."
      ]
    },
    {
      "cell_type": "code",
      "source": [
        "\n",
        "import nlu\n",
        "df = nlu.load('en.generate.biomedical_biogpt_base').predict('Covid 19 is')\n",
        "df.generated.iloc[0]"
      ],
      "metadata": {
        "id": "f3E4RBmTs1gc",
        "colab": {
          "base_uri": "https://localhost:8080/",
          "height": 174
        },
        "outputId": "ec7c30a0-4ade-4de6-8d69-edff15ea4daf"
      },
      "execution_count": null,
      "outputs": [
        {
          "output_type": "stream",
          "name": "stdout",
          "text": [
            "Warning::Spark Session already created, some configs may not take.\n",
            "Warning::Spark Session already created, some configs may not take.\n",
            "text_generator_biomedical_biogpt_base download started this may take some time.\n",
            "[OK!]\n",
            "sentence_detector_dl download started this may take some time.\n",
            "Approximate size to download 354.6 KB\n",
            "[OK!]\n",
            "Warning::Spark Session already created, some configs may not take.\n"
          ]
        },
        {
          "output_type": "execute_result",
          "data": {
            "text/plain": [
              "'Covid 19 is a pandemic that has affected the world &apos;s economy and health. The World Health Organization ( WHO ) has declared the pandemic a global emergency. The'"
            ],
            "application/vnd.google.colaboratory.intrinsic+json": {
              "type": "string"
            }
          },
          "metadata": {},
          "execution_count": 2
        }
      ]
    },
    {
      "cell_type": "markdown",
      "source": [
        "## 📑  **en.generate.biogpt_chat_jsl_conversational**\n",
        "\n",
        "This model is based on BioGPT finetuned with medical conversations happening in a clinical settings and can answer clinical questions related to symptoms, drugs, tests, and diseases."
      ],
      "metadata": {
        "id": "aQedbnMWkkCp"
      }
    },
    {
      "cell_type": "code",
      "source": [
        "model = nlu.load('en.generate.biogpt_chat_jsl_conversational')"
      ],
      "metadata": {
        "colab": {
          "base_uri": "https://localhost:8080/"
        },
        "id": "BR03PDROpZpf",
        "outputId": "5b47ddfe-c732-4d84-c4d7-d0c230347676"
      },
      "execution_count": null,
      "outputs": [
        {
          "output_type": "stream",
          "name": "stdout",
          "text": [
            "Warning::Spark Session already created, some configs may not take.\n",
            "Warning::Spark Session already created, some configs may not take.\n",
            "biogpt_chat_jsl_conversational download started this may take some time.\n",
            "[OK!]\n"
          ]
        }
      ]
    },
    {
      "cell_type": "code",
      "source": [
        "model['med_text_generator'].setMaxNewTokens(100)"
      ],
      "metadata": {
        "colab": {
          "base_uri": "https://localhost:8080/"
        },
        "id": "fAi9uvo3peH_",
        "outputId": "633c090d-be03-4a41-be3c-c76ba347c82b"
      },
      "execution_count": null,
      "outputs": [
        {
          "output_type": "execute_result",
          "data": {
            "text/plain": [
              "MedicalTextGenerator_9838e26f3846"
            ]
          },
          "metadata": {},
          "execution_count": 3
        }
      ]
    },
    {
      "cell_type": "code",
      "source": [
        "data = ['How to treat asthma ?','How to treat common cold?']"
      ],
      "metadata": {
        "id": "hWbW7LEUsMiG"
      },
      "execution_count": null,
      "outputs": []
    },
    {
      "cell_type": "code",
      "source": [
        "df = model.predict(data)"
      ],
      "metadata": {
        "id": "Vf0vbe7UpyZ3"
      },
      "execution_count": null,
      "outputs": []
    },
    {
      "cell_type": "code",
      "source": [
        "df"
      ],
      "metadata": {
        "colab": {
          "base_uri": "https://localhost:8080/",
          "height": 112
        },
        "id": "lZoWyd2CnSiE",
        "outputId": "3673941a-29ef-49a1-a185-b7ce7fb91edb"
      },
      "execution_count": null,
      "outputs": [
        {
          "output_type": "execute_result",
          "data": {
            "text/plain": [
              "                                           generated  \\\n",
              "0  How to treat asthma ?. answer: Yes, you can de...   \n",
              "1  How to treat common cold ? I am suffering from...   \n",
              "\n",
              "                    sentence  \n",
              "0      How to treat asthma ?  \n",
              "1  How to treat common cold?  "
            ],
            "text/html": [
              "\n",
              "\n",
              "  <div id=\"df-5cd7e19f-2e00-4dc4-9764-1b592658ca29\">\n",
              "    <div class=\"colab-df-container\">\n",
              "      <div>\n",
              "<style scoped>\n",
              "    .dataframe tbody tr th:only-of-type {\n",
              "        vertical-align: middle;\n",
              "    }\n",
              "\n",
              "    .dataframe tbody tr th {\n",
              "        vertical-align: top;\n",
              "    }\n",
              "\n",
              "    .dataframe thead th {\n",
              "        text-align: right;\n",
              "    }\n",
              "</style>\n",
              "<table border=\"1\" class=\"dataframe\">\n",
              "  <thead>\n",
              "    <tr style=\"text-align: right;\">\n",
              "      <th></th>\n",
              "      <th>generated</th>\n",
              "      <th>sentence</th>\n",
              "    </tr>\n",
              "  </thead>\n",
              "  <tbody>\n",
              "    <tr>\n",
              "      <th>0</th>\n",
              "      <td>How to treat asthma ?. answer: Yes, you can de...</td>\n",
              "      <td>How to treat asthma ?</td>\n",
              "    </tr>\n",
              "    <tr>\n",
              "      <th>1</th>\n",
              "      <td>How to treat common cold ? I am suffering from...</td>\n",
              "      <td>How to treat common cold?</td>\n",
              "    </tr>\n",
              "  </tbody>\n",
              "</table>\n",
              "</div>\n",
              "      <button class=\"colab-df-convert\" onclick=\"convertToInteractive('df-5cd7e19f-2e00-4dc4-9764-1b592658ca29')\"\n",
              "              title=\"Convert this dataframe to an interactive table.\"\n",
              "              style=\"display:none;\">\n",
              "\n",
              "  <svg xmlns=\"http://www.w3.org/2000/svg\" height=\"24px\"viewBox=\"0 0 24 24\"\n",
              "       width=\"24px\">\n",
              "    <path d=\"M0 0h24v24H0V0z\" fill=\"none\"/>\n",
              "    <path d=\"M18.56 5.44l.94 2.06.94-2.06 2.06-.94-2.06-.94-.94-2.06-.94 2.06-2.06.94zm-11 1L8.5 8.5l.94-2.06 2.06-.94-2.06-.94L8.5 2.5l-.94 2.06-2.06.94zm10 10l.94 2.06.94-2.06 2.06-.94-2.06-.94-.94-2.06-.94 2.06-2.06.94z\"/><path d=\"M17.41 7.96l-1.37-1.37c-.4-.4-.92-.59-1.43-.59-.52 0-1.04.2-1.43.59L10.3 9.45l-7.72 7.72c-.78.78-.78 2.05 0 2.83L4 21.41c.39.39.9.59 1.41.59.51 0 1.02-.2 1.41-.59l7.78-7.78 2.81-2.81c.8-.78.8-2.07 0-2.86zM5.41 20L4 18.59l7.72-7.72 1.47 1.35L5.41 20z\"/>\n",
              "  </svg>\n",
              "      </button>\n",
              "\n",
              "\n",
              "\n",
              "    <div id=\"df-6148a5c0-96c4-4eb3-bdcc-15f3161c74ec\">\n",
              "      <button class=\"colab-df-quickchart\" onclick=\"quickchart('df-6148a5c0-96c4-4eb3-bdcc-15f3161c74ec')\"\n",
              "              title=\"Suggest charts.\"\n",
              "              style=\"display:none;\">\n",
              "\n",
              "<svg xmlns=\"http://www.w3.org/2000/svg\" height=\"24px\"viewBox=\"0 0 24 24\"\n",
              "     width=\"24px\">\n",
              "    <g>\n",
              "        <path d=\"M19 3H5c-1.1 0-2 .9-2 2v14c0 1.1.9 2 2 2h14c1.1 0 2-.9 2-2V5c0-1.1-.9-2-2-2zM9 17H7v-7h2v7zm4 0h-2V7h2v10zm4 0h-2v-4h2v4z\"/>\n",
              "    </g>\n",
              "</svg>\n",
              "      </button>\n",
              "    </div>\n",
              "\n",
              "<style>\n",
              "  .colab-df-quickchart {\n",
              "    background-color: #E8F0FE;\n",
              "    border: none;\n",
              "    border-radius: 50%;\n",
              "    cursor: pointer;\n",
              "    display: none;\n",
              "    fill: #1967D2;\n",
              "    height: 32px;\n",
              "    padding: 0 0 0 0;\n",
              "    width: 32px;\n",
              "  }\n",
              "\n",
              "  .colab-df-quickchart:hover {\n",
              "    background-color: #E2EBFA;\n",
              "    box-shadow: 0px 1px 2px rgba(60, 64, 67, 0.3), 0px 1px 3px 1px rgba(60, 64, 67, 0.15);\n",
              "    fill: #174EA6;\n",
              "  }\n",
              "\n",
              "  [theme=dark] .colab-df-quickchart {\n",
              "    background-color: #3B4455;\n",
              "    fill: #D2E3FC;\n",
              "  }\n",
              "\n",
              "  [theme=dark] .colab-df-quickchart:hover {\n",
              "    background-color: #434B5C;\n",
              "    box-shadow: 0px 1px 3px 1px rgba(0, 0, 0, 0.15);\n",
              "    filter: drop-shadow(0px 1px 2px rgba(0, 0, 0, 0.3));\n",
              "    fill: #FFFFFF;\n",
              "  }\n",
              "</style>\n",
              "\n",
              "    <script>\n",
              "      async function quickchart(key) {\n",
              "        const containerElement = document.querySelector('#' + key);\n",
              "        const charts = await google.colab.kernel.invokeFunction(\n",
              "            'suggestCharts', [key], {});\n",
              "      }\n",
              "    </script>\n",
              "\n",
              "      <script>\n",
              "\n",
              "function displayQuickchartButton(domScope) {\n",
              "  let quickchartButtonEl =\n",
              "    domScope.querySelector('#df-6148a5c0-96c4-4eb3-bdcc-15f3161c74ec button.colab-df-quickchart');\n",
              "  quickchartButtonEl.style.display =\n",
              "    google.colab.kernel.accessAllowed ? 'block' : 'none';\n",
              "}\n",
              "\n",
              "        displayQuickchartButton(document);\n",
              "      </script>\n",
              "      <style>\n",
              "    .colab-df-container {\n",
              "      display:flex;\n",
              "      flex-wrap:wrap;\n",
              "      gap: 12px;\n",
              "    }\n",
              "\n",
              "    .colab-df-convert {\n",
              "      background-color: #E8F0FE;\n",
              "      border: none;\n",
              "      border-radius: 50%;\n",
              "      cursor: pointer;\n",
              "      display: none;\n",
              "      fill: #1967D2;\n",
              "      height: 32px;\n",
              "      padding: 0 0 0 0;\n",
              "      width: 32px;\n",
              "    }\n",
              "\n",
              "    .colab-df-convert:hover {\n",
              "      background-color: #E2EBFA;\n",
              "      box-shadow: 0px 1px 2px rgba(60, 64, 67, 0.3), 0px 1px 3px 1px rgba(60, 64, 67, 0.15);\n",
              "      fill: #174EA6;\n",
              "    }\n",
              "\n",
              "    [theme=dark] .colab-df-convert {\n",
              "      background-color: #3B4455;\n",
              "      fill: #D2E3FC;\n",
              "    }\n",
              "\n",
              "    [theme=dark] .colab-df-convert:hover {\n",
              "      background-color: #434B5C;\n",
              "      box-shadow: 0px 1px 3px 1px rgba(0, 0, 0, 0.15);\n",
              "      filter: drop-shadow(0px 1px 2px rgba(0, 0, 0, 0.3));\n",
              "      fill: #FFFFFF;\n",
              "    }\n",
              "  </style>\n",
              "\n",
              "      <script>\n",
              "        const buttonEl =\n",
              "          document.querySelector('#df-5cd7e19f-2e00-4dc4-9764-1b592658ca29 button.colab-df-convert');\n",
              "        buttonEl.style.display =\n",
              "          google.colab.kernel.accessAllowed ? 'block' : 'none';\n",
              "\n",
              "        async function convertToInteractive(key) {\n",
              "          const element = document.querySelector('#df-5cd7e19f-2e00-4dc4-9764-1b592658ca29');\n",
              "          const dataTable =\n",
              "            await google.colab.kernel.invokeFunction('convertToInteractive',\n",
              "                                                     [key], {});\n",
              "          if (!dataTable) return;\n",
              "\n",
              "          const docLinkHtml = 'Like what you see? Visit the ' +\n",
              "            '<a target=\"_blank\" href=https://colab.research.google.com/notebooks/data_table.ipynb>data table notebook</a>'\n",
              "            + ' to learn more about interactive tables.';\n",
              "          element.innerHTML = '';\n",
              "          dataTable['output_type'] = 'display_data';\n",
              "          await google.colab.output.renderOutput(dataTable, element);\n",
              "          const docLink = document.createElement('div');\n",
              "          docLink.innerHTML = docLinkHtml;\n",
              "          element.appendChild(docLink);\n",
              "        }\n",
              "      </script>\n",
              "    </div>\n",
              "  </div>\n"
            ]
          },
          "metadata": {},
          "execution_count": 14
        }
      ]
    },
    {
      "cell_type": "code",
      "source": [
        "for i,j in df.iterrows():\n",
        "  print(j['generated'])"
      ],
      "metadata": {
        "colab": {
          "base_uri": "https://localhost:8080/"
        },
        "id": "w6ReENPIu995",
        "outputId": "392ca74c-aa65-44ed-90fc-f22063ee6d90"
      },
      "execution_count": null,
      "outputs": [
        {
          "output_type": "stream",
          "name": "stdout",
          "text": [
            "How to treat asthma ?. answer: Yes, you can definitely take Montelukast as a maintenance therapy. Also, you can take an Albuterol inhaler if you have a difficult time breathing. If you have a cough, it will help. If you have no cough, then you can take a combination of montelukast and levocetirizine. If the symptoms are too troublesome, you can try using Budesonide. If the symptoms are too mild, you can also take a combination of Budesonide\n",
            "How to treat common cold ? I am suffering from cough from last two weeks. I am taking azithral 200 and levolin 100. I am also taking azithral 500 and levolin 400 twice a day. I am also taking azithral 500 and levolin 400mg twice a day. answer: Common cold is caused due to viral infection and the most common treatment for it is decongestant syrup like oxymetazoline or oxymetazoline nasal spray. It is given for symptomatic relief and to\n"
          ]
        }
      ]
    },
    {
      "cell_type": "code",
      "source": [],
      "metadata": {
        "id": "CH47DpkXvDwL"
      },
      "execution_count": null,
      "outputs": []
    }
  ]
}
