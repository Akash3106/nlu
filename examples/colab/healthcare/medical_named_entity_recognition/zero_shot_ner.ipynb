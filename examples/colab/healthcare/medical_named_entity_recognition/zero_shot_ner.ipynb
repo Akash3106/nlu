{
  "nbformat": 4,
  "nbformat_minor": 0,
  "metadata": {
    "colab": {
      "provenance": [],
      "toc_visible": true
    },
    "kernelspec": {
      "name": "python3",
      "display_name": "Python 3"
    },
    "language_info": {
      "name": "python"
    }
  },
  "cells": [
    {
      "cell_type": "markdown",
      "source": [
        "# Zero Shot NER\n",
        "\n",
        "\n",
        "![JohnSnowLabs](https://nlp.johnsnowlabs.com/assets/images/logo.png)\n",
        "[![Open In Colab](https://colab.research.google.com/assets/colab-badge.svg)](https://colab.research.google.com/github/JohnSnowLabs/nlu/blob/master/examples/colab/healthcare/medical_named_entity_recognition/zero_shot_ner.ipynb)\n",
        "\n",
        "Based on John Snow Labs Enterprise-NLP [ZeroShotNerModel](https://nlp.johnsnowlabs.com/docs/en/licensed_annotators#zeroshotnermodel)       \n",
        "This architecture is based on `RoBertaForQuestionAnswering`.\n",
        "Zero shot models excel at generalization, meaning that the model can accurately predict entities in very different data sets without the need to fine tune the model or train from scratch for each different domain.\n",
        "Even though a model trained to solve a specific problem can achieve better accuracy than a zero-shot model in this specific task, \n",
        "it probably won’t be be useful in a different task. \n",
        "That is where zero-shot models shows its usefulness by being able to achieve good results in various domains.\n"
      ],
      "metadata": {
        "id": "OkOiSHgdV1yK"
      }
    },
    {
      "cell_type": "code",
      "execution_count": null,
      "metadata": {
        "id": "2e80CsPqVk2i"
      },
      "outputs": [],
      "source": [
        "%%capture\n",
        "! pip install nlu\n",
        "! pip install pyspark==3.1.1"
      ]
    },
    {
      "cell_type": "markdown",
      "source": [
        "## Authorize your Environment"
      ],
      "metadata": {
        "id": "WtQsrCIvWIc3"
      }
    },
    {
      "cell_type": "code",
      "source": [
        "%%capture\n",
        "import nlu\n",
        "nlu.auth(\n",
        "    HEALTHCARE_LICENSE_OR_JSON_PATH= \"Your Secrets\",\n",
        "    AWS_ACCESS_KEY_ID = \"Your Secrets\",\n",
        "    AWS_SECRET_ACCESS_KEY = \"Your Secrets\",\n",
        "    HEALTHCARE_SECRET= 'Your Secrets'\n",
        ")\n"
      ],
      "metadata": {
        "id": "cfdXl4MkWwrA"
      },
      "execution_count": null,
      "outputs": []
    },
    {
      "cell_type": "markdown",
      "source": [
        "## Load the Model"
      ],
      "metadata": {
        "id": "4ork95BOWO6r"
      }
    },
    {
      "cell_type": "code",
      "source": [
        "import nlu \n",
        "enterprise_zero_shot_ner = nlu.load('en.zero_shot.ner_roberta')\n",
        "enterprise_zero_shot_ner"
      ],
      "metadata": {
        "id": "CL3jxSQTdBgT",
        "colab": {
          "base_uri": "https://localhost:8080/"
        },
        "outputId": "ae5b288f-2718-4ff2-8228-61c478bea1d7"
      },
      "execution_count": null,
      "outputs": [
        {
          "output_type": "stream",
          "name": "stdout",
          "text": [
            "Warning::Spark Session already created, some configs may not take.\n",
            "Warning::Spark Session already created, some configs may not take.\n",
            "zero_shot_ner_roberta download started this may take some time.\n",
            "Approximate size to download 438.9 MB\n",
            "[OK!]\n"
          ]
        },
        {
          "output_type": "execute_result",
          "data": {
            "text/plain": [
              "{'zero_shot_ner': ZeroShotNerModel_55009a5b6e01,\n",
              " 'tokenizer': Tokenizer_2e6564cc76ef,\n",
              " 'document_assembler': DocumentAssembler_5a9e1d983500,\n",
              " 'chunk_converter_licensed@entities': NerConverterInternal_f0c9676dce30}"
            ]
          },
          "metadata": {},
          "execution_count": 3
        }
      ]
    },
    {
      "cell_type": "markdown",
      "source": [
        "## Configure entity definitions"
      ],
      "metadata": {
        "id": "yLzY3sL3WQmU"
      }
    },
    {
      "cell_type": "code",
      "source": [
        "enterprise_zero_shot_ner['zero_shot_ner'].setEntityDefinitions(\n",
        "    {\n",
        "        \"PROBLEM\": [\n",
        "            \"What is the disease?\",\n",
        "            \"What is his symptom?\",\n",
        "            \"What is her disease?\",\n",
        "            \"What is his disease?\",\n",
        "            \"What is the problem?\",\n",
        "            \"What does a patient suffer\",\n",
        "            \"What was the reason that the patient is admitted to the clinic?\",\n",
        "        ],\n",
        "        \"DRUG\": [\n",
        "            \"Which drug?\",\n",
        "            \"Which is the drug?\",\n",
        "            \"What is the drug?\",\n",
        "            \"Which drug does he use?\",\n",
        "            \"Which drug does she use?\",\n",
        "            \"Which drug do I use?\",\n",
        "            \"Which drug is prescribed for a symptom?\",\n",
        "        ],\n",
        "        \"ADMISSION_DATE\": [\"When did patient admitted to a clinic?\"],\n",
        "        \"PATIENT_AGE\": [\n",
        "            \"How old is the patient?\",\n",
        "            \"What is the gae of the patient?\",\n",
        "        ],\n",
        "    }\n",
        ")\n"
      ],
      "metadata": {
        "id": "aTeTPgdJ2lEF",
        "colab": {
          "base_uri": "https://localhost:8080/"
        },
        "outputId": "469ce0f0-5d08-47a4-c7d1-33a411b165c4"
      },
      "execution_count": null,
      "outputs": [
        {
          "output_type": "execute_result",
          "data": {
            "text/plain": [
              "ZeroShotNerModel_55009a5b6e01"
            ]
          },
          "metadata": {},
          "execution_count": 4
        }
      ]
    },
    {
      "cell_type": "markdown",
      "source": [
        "## Predict on some sample text with entities"
      ],
      "metadata": {
        "id": "ZKIfSDTRWS8W"
      }
    },
    {
      "cell_type": "code",
      "source": [
        "\n",
        "df = enterprise_zero_shot_ner.predict(\n",
        "    [\n",
        "        \"The doctor pescribed Majezik for my severe headache.\",\n",
        "        \"The patient was admitted to the hospital for his colon cancer.\",\n",
        "        \"27 years old patient was admitted to clinic on Sep 1st by Dr. X for a right-sided pleural effusion for thoracentesis.\",\n",
        "    ]\n",
        ")\n",
        "\n",
        "df"
      ],
      "metadata": {
        "id": "yI1U1UvA2mzg",
        "colab": {
          "base_uri": "https://localhost:8080/",
          "height": 307
        },
        "outputId": "8472bdad-21e7-4488-e94c-ca0899a23521"
      },
      "execution_count": null,
      "outputs": [
        {
          "output_type": "stream",
          "name": "stdout",
          "text": [
            "sentence_detector_dl download started this may take some time.\n",
            "Approximate size to download 354.6 KB\n",
            "[OK!]\n",
            "Warning::Spark Session already created, some configs may not take.\n"
          ]
        },
        {
          "output_type": "execute_result",
          "data": {
            "text/plain": [
              "                                            document  \\\n",
              "0  The doctor pescribed Majezik for my severe hea...   \n",
              "0  The doctor pescribed Majezik for my severe hea...   \n",
              "1  The patient was admitted to the hospital for h...   \n",
              "2  27 years old patient was admitted to clinic on...   \n",
              "2  27 years old patient was admitted to clinic on...   \n",
              "2  27 years old patient was admitted to clinic on...   \n",
              "\n",
              "                                 entities_zero_shot entities_zero_shot_class  \\\n",
              "0                                           Majezik                     DRUG   \n",
              "0                                   severe headache                  PROBLEM   \n",
              "1                                      colon cancer                  PROBLEM   \n",
              "2                                      27 years old              PATIENT_AGE   \n",
              "2                                           Sep 1st           ADMISSION_DATE   \n",
              "2  a right-sided pleural effusion for thoracentesis                  PROBLEM   \n",
              "\n",
              "  entities_zero_shot_confidence entities_zero_shot_origin_chunk  \\\n",
              "0                     0.6467171                               0   \n",
              "0                     0.5526352                               1   \n",
              "1                    0.88985014                               0   \n",
              "2                     0.6943088                               0   \n",
              "2                    0.95646083                               1   \n",
              "2                    0.50026625                               2   \n",
              "\n",
              "  entities_zero_shot_origin_sentence  \n",
              "0                                  0  \n",
              "0                                  0  \n",
              "1                                  0  \n",
              "2                                  0  \n",
              "2                                  0  \n",
              "2                                  0  "
            ],
            "text/html": [
              "\n",
              "  <div id=\"df-5c7c7ece-9872-45dd-a495-de1f83a12585\">\n",
              "    <div class=\"colab-df-container\">\n",
              "      <div>\n",
              "<style scoped>\n",
              "    .dataframe tbody tr th:only-of-type {\n",
              "        vertical-align: middle;\n",
              "    }\n",
              "\n",
              "    .dataframe tbody tr th {\n",
              "        vertical-align: top;\n",
              "    }\n",
              "\n",
              "    .dataframe thead th {\n",
              "        text-align: right;\n",
              "    }\n",
              "</style>\n",
              "<table border=\"1\" class=\"dataframe\">\n",
              "  <thead>\n",
              "    <tr style=\"text-align: right;\">\n",
              "      <th></th>\n",
              "      <th>document</th>\n",
              "      <th>entities_zero_shot</th>\n",
              "      <th>entities_zero_shot_class</th>\n",
              "      <th>entities_zero_shot_confidence</th>\n",
              "      <th>entities_zero_shot_origin_chunk</th>\n",
              "      <th>entities_zero_shot_origin_sentence</th>\n",
              "    </tr>\n",
              "  </thead>\n",
              "  <tbody>\n",
              "    <tr>\n",
              "      <th>0</th>\n",
              "      <td>The doctor pescribed Majezik for my severe hea...</td>\n",
              "      <td>Majezik</td>\n",
              "      <td>DRUG</td>\n",
              "      <td>0.6467171</td>\n",
              "      <td>0</td>\n",
              "      <td>0</td>\n",
              "    </tr>\n",
              "    <tr>\n",
              "      <th>0</th>\n",
              "      <td>The doctor pescribed Majezik for my severe hea...</td>\n",
              "      <td>severe headache</td>\n",
              "      <td>PROBLEM</td>\n",
              "      <td>0.5526352</td>\n",
              "      <td>1</td>\n",
              "      <td>0</td>\n",
              "    </tr>\n",
              "    <tr>\n",
              "      <th>1</th>\n",
              "      <td>The patient was admitted to the hospital for h...</td>\n",
              "      <td>colon cancer</td>\n",
              "      <td>PROBLEM</td>\n",
              "      <td>0.88985014</td>\n",
              "      <td>0</td>\n",
              "      <td>0</td>\n",
              "    </tr>\n",
              "    <tr>\n",
              "      <th>2</th>\n",
              "      <td>27 years old patient was admitted to clinic on...</td>\n",
              "      <td>27 years old</td>\n",
              "      <td>PATIENT_AGE</td>\n",
              "      <td>0.6943088</td>\n",
              "      <td>0</td>\n",
              "      <td>0</td>\n",
              "    </tr>\n",
              "    <tr>\n",
              "      <th>2</th>\n",
              "      <td>27 years old patient was admitted to clinic on...</td>\n",
              "      <td>Sep 1st</td>\n",
              "      <td>ADMISSION_DATE</td>\n",
              "      <td>0.95646083</td>\n",
              "      <td>1</td>\n",
              "      <td>0</td>\n",
              "    </tr>\n",
              "    <tr>\n",
              "      <th>2</th>\n",
              "      <td>27 years old patient was admitted to clinic on...</td>\n",
              "      <td>a right-sided pleural effusion for thoracentesis</td>\n",
              "      <td>PROBLEM</td>\n",
              "      <td>0.50026625</td>\n",
              "      <td>2</td>\n",
              "      <td>0</td>\n",
              "    </tr>\n",
              "  </tbody>\n",
              "</table>\n",
              "</div>\n",
              "      <button class=\"colab-df-convert\" onclick=\"convertToInteractive('df-5c7c7ece-9872-45dd-a495-de1f83a12585')\"\n",
              "              title=\"Convert this dataframe to an interactive table.\"\n",
              "              style=\"display:none;\">\n",
              "        \n",
              "  <svg xmlns=\"http://www.w3.org/2000/svg\" height=\"24px\"viewBox=\"0 0 24 24\"\n",
              "       width=\"24px\">\n",
              "    <path d=\"M0 0h24v24H0V0z\" fill=\"none\"/>\n",
              "    <path d=\"M18.56 5.44l.94 2.06.94-2.06 2.06-.94-2.06-.94-.94-2.06-.94 2.06-2.06.94zm-11 1L8.5 8.5l.94-2.06 2.06-.94-2.06-.94L8.5 2.5l-.94 2.06-2.06.94zm10 10l.94 2.06.94-2.06 2.06-.94-2.06-.94-.94-2.06-.94 2.06-2.06.94z\"/><path d=\"M17.41 7.96l-1.37-1.37c-.4-.4-.92-.59-1.43-.59-.52 0-1.04.2-1.43.59L10.3 9.45l-7.72 7.72c-.78.78-.78 2.05 0 2.83L4 21.41c.39.39.9.59 1.41.59.51 0 1.02-.2 1.41-.59l7.78-7.78 2.81-2.81c.8-.78.8-2.07 0-2.86zM5.41 20L4 18.59l7.72-7.72 1.47 1.35L5.41 20z\"/>\n",
              "  </svg>\n",
              "      </button>\n",
              "      \n",
              "  <style>\n",
              "    .colab-df-container {\n",
              "      display:flex;\n",
              "      flex-wrap:wrap;\n",
              "      gap: 12px;\n",
              "    }\n",
              "\n",
              "    .colab-df-convert {\n",
              "      background-color: #E8F0FE;\n",
              "      border: none;\n",
              "      border-radius: 50%;\n",
              "      cursor: pointer;\n",
              "      display: none;\n",
              "      fill: #1967D2;\n",
              "      height: 32px;\n",
              "      padding: 0 0 0 0;\n",
              "      width: 32px;\n",
              "    }\n",
              "\n",
              "    .colab-df-convert:hover {\n",
              "      background-color: #E2EBFA;\n",
              "      box-shadow: 0px 1px 2px rgba(60, 64, 67, 0.3), 0px 1px 3px 1px rgba(60, 64, 67, 0.15);\n",
              "      fill: #174EA6;\n",
              "    }\n",
              "\n",
              "    [theme=dark] .colab-df-convert {\n",
              "      background-color: #3B4455;\n",
              "      fill: #D2E3FC;\n",
              "    }\n",
              "\n",
              "    [theme=dark] .colab-df-convert:hover {\n",
              "      background-color: #434B5C;\n",
              "      box-shadow: 0px 1px 3px 1px rgba(0, 0, 0, 0.15);\n",
              "      filter: drop-shadow(0px 1px 2px rgba(0, 0, 0, 0.3));\n",
              "      fill: #FFFFFF;\n",
              "    }\n",
              "  </style>\n",
              "\n",
              "      <script>\n",
              "        const buttonEl =\n",
              "          document.querySelector('#df-5c7c7ece-9872-45dd-a495-de1f83a12585 button.colab-df-convert');\n",
              "        buttonEl.style.display =\n",
              "          google.colab.kernel.accessAllowed ? 'block' : 'none';\n",
              "\n",
              "        async function convertToInteractive(key) {\n",
              "          const element = document.querySelector('#df-5c7c7ece-9872-45dd-a495-de1f83a12585');\n",
              "          const dataTable =\n",
              "            await google.colab.kernel.invokeFunction('convertToInteractive',\n",
              "                                                     [key], {});\n",
              "          if (!dataTable) return;\n",
              "\n",
              "          const docLinkHtml = 'Like what you see? Visit the ' +\n",
              "            '<a target=\"_blank\" href=https://colab.research.google.com/notebooks/data_table.ipynb>data table notebook</a>'\n",
              "            + ' to learn more about interactive tables.';\n",
              "          element.innerHTML = '';\n",
              "          dataTable['output_type'] = 'display_data';\n",
              "          await google.colab.output.renderOutput(dataTable, element);\n",
              "          const docLink = document.createElement('div');\n",
              "          docLink.innerHTML = docLinkHtml;\n",
              "          element.appendChild(docLink);\n",
              "        }\n",
              "      </script>\n",
              "    </div>\n",
              "  </div>\n",
              "  "
            ]
          },
          "metadata": {},
          "execution_count": 5
        }
      ]
    }
  ]
}